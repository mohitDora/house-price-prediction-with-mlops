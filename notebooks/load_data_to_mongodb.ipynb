{
 "cells": [
  {
   "cell_type": "code",
   "execution_count": null,
   "id": "a3bd50a9",
   "metadata": {},
   "outputs": [],
   "source": [
    "import pandas\n",
    "import pymongo\n",
    "from src.config import config"
   ]
  },
  {
   "cell_type": "code",
   "execution_count": null,
   "id": "d756679e",
   "metadata": {},
   "outputs": [],
   "source": [
    "df = pandas.read_csv(\"../temp/housing.csv\")\n",
    "df.head()"
   ]
  },
  {
   "cell_type": "code",
   "execution_count": null,
   "id": "c5f5ac12",
   "metadata": {},
   "outputs": [],
   "source": [
    "data = df.to_dict(orient='records')\n",
    "# data"
   ]
  },
  {
   "cell_type": "code",
   "execution_count": null,
   "id": "99c7aa75",
   "metadata": {},
   "outputs": [],
   "source": [
    "DB_NAME = config.MONGO_DB_NAME\n",
    "COLLECTION_NAME = config.MONGO_COLLECTION_NAME\n",
    "\n",
    "client = pymongo.MongoClient(config.MONGO_URI)\n",
    "db = client[DB_NAME]\n",
    "collection = db[COLLECTION_NAME]"
   ]
  },
  {
   "cell_type": "code",
   "execution_count": null,
   "id": "5084ec9e",
   "metadata": {},
   "outputs": [],
   "source": [
    "# collection.insert_many(data)"
   ]
  }
 ],
 "metadata": {
  "kernelspec": {
   "display_name": ".venv",
   "language": "python",
   "name": "python3"
  },
  "language_info": {
   "codemirror_mode": {
    "name": "ipython",
    "version": 3
   },
   "file_extension": ".py",
   "mimetype": "text/x-python",
   "name": "python",
   "nbconvert_exporter": "python",
   "pygments_lexer": "ipython3",
   "version": "3.11.7"
  }
 },
 "nbformat": 4,
 "nbformat_minor": 5
}
